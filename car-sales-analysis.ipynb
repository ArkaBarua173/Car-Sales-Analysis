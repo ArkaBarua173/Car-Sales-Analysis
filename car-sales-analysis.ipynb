{
 "cells": [
  {
   "cell_type": "code",
   "execution_count": 1,
   "id": "fe803430",
   "metadata": {
    "_cell_guid": "b1076dfc-b9ad-4769-8c92-a6c4dae69d19",
    "_uuid": "8f2839f25d086af736a60e9eeb907d3b93b6e0e5",
    "execution": {
     "iopub.execute_input": "2024-04-23T07:20:17.863546Z",
     "iopub.status.busy": "2024-04-23T07:20:17.862471Z",
     "iopub.status.idle": "2024-04-23T07:20:19.134588Z",
     "shell.execute_reply": "2024-04-23T07:20:19.133180Z"
    },
    "papermill": {
     "duration": 1.284286,
     "end_time": "2024-04-23T07:20:19.137565",
     "exception": false,
     "start_time": "2024-04-23T07:20:17.853279",
     "status": "completed"
    },
    "tags": []
   },
   "outputs": [
    {
     "name": "stdout",
     "output_type": "stream",
     "text": [
      "/kaggle/input/vehicle-sales-data/car_prices.csv\n"
     ]
    }
   ],
   "source": [
    "# This Python 3 environment comes with many helpful analytics libraries installed\n",
    "# It is defined by the kaggle/python Docker image: https://github.com/kaggle/docker-python\n",
    "# For example, here's several helpful packages to load\n",
    "\n",
    "import numpy as np # linear algebra\n",
    "import pandas as pd # data processing, CSV file I/O (e.g. pd.read_csv)\n",
    "\n",
    "\n",
    "# Input data files are available in the read-only \"../input/\" directory\n",
    "# For example, running this (by clicking run or pressing Shift+Enter) will list all files under the input directory\n",
    "\n",
    "import os\n",
    "for dirname, _, filenames in os.walk('/kaggle/input'):\n",
    "    for filename in filenames:\n",
    "        print(os.path.join(dirname, filename))\n",
    "\n",
    "# You can write up to 20GB to the current directory (/kaggle/working/) that gets preserved as output when you create a version using \"Save & Run All\" \n",
    "# You can also write temporary files to /kaggle/temp/, but they won't be saved outside of the current session"
   ]
  },
  {
   "cell_type": "code",
   "execution_count": 2,
   "id": "c76b3728",
   "metadata": {
    "execution": {
     "iopub.execute_input": "2024-04-23T07:20:19.153516Z",
     "iopub.status.busy": "2024-04-23T07:20:19.152945Z",
     "iopub.status.idle": "2024-04-23T07:20:23.222312Z",
     "shell.execute_reply": "2024-04-23T07:20:23.220502Z"
    },
    "papermill": {
     "duration": 4.081223,
     "end_time": "2024-04-23T07:20:23.226035",
     "exception": false,
     "start_time": "2024-04-23T07:20:19.144812",
     "status": "completed"
    },
    "tags": []
   },
   "outputs": [
    {
     "data": {
      "text/html": [
       "<div>\n",
       "<style scoped>\n",
       "    .dataframe tbody tr th:only-of-type {\n",
       "        vertical-align: middle;\n",
       "    }\n",
       "\n",
       "    .dataframe tbody tr th {\n",
       "        vertical-align: top;\n",
       "    }\n",
       "\n",
       "    .dataframe thead th {\n",
       "        text-align: right;\n",
       "    }\n",
       "</style>\n",
       "<table border=\"1\" class=\"dataframe\">\n",
       "  <thead>\n",
       "    <tr style=\"text-align: right;\">\n",
       "      <th></th>\n",
       "      <th>year</th>\n",
       "      <th>make</th>\n",
       "      <th>model</th>\n",
       "      <th>trim</th>\n",
       "      <th>body</th>\n",
       "      <th>transmission</th>\n",
       "      <th>vin</th>\n",
       "      <th>state</th>\n",
       "      <th>condition</th>\n",
       "      <th>odometer</th>\n",
       "      <th>color</th>\n",
       "      <th>interior</th>\n",
       "      <th>seller</th>\n",
       "      <th>mmr</th>\n",
       "      <th>sellingprice</th>\n",
       "      <th>saledate</th>\n",
       "    </tr>\n",
       "  </thead>\n",
       "  <tbody>\n",
       "    <tr>\n",
       "      <th>0</th>\n",
       "      <td>2015</td>\n",
       "      <td>Kia</td>\n",
       "      <td>Sorento</td>\n",
       "      <td>LX</td>\n",
       "      <td>SUV</td>\n",
       "      <td>automatic</td>\n",
       "      <td>5xyktca69fg566472</td>\n",
       "      <td>ca</td>\n",
       "      <td>5.0</td>\n",
       "      <td>16639.0</td>\n",
       "      <td>white</td>\n",
       "      <td>black</td>\n",
       "      <td>kia motors america  inc</td>\n",
       "      <td>20500.0</td>\n",
       "      <td>21500.0</td>\n",
       "      <td>Tue Dec 16 2014 12:30:00 GMT-0800 (PST)</td>\n",
       "    </tr>\n",
       "    <tr>\n",
       "      <th>1</th>\n",
       "      <td>2015</td>\n",
       "      <td>Kia</td>\n",
       "      <td>Sorento</td>\n",
       "      <td>LX</td>\n",
       "      <td>SUV</td>\n",
       "      <td>automatic</td>\n",
       "      <td>5xyktca69fg561319</td>\n",
       "      <td>ca</td>\n",
       "      <td>5.0</td>\n",
       "      <td>9393.0</td>\n",
       "      <td>white</td>\n",
       "      <td>beige</td>\n",
       "      <td>kia motors america  inc</td>\n",
       "      <td>20800.0</td>\n",
       "      <td>21500.0</td>\n",
       "      <td>Tue Dec 16 2014 12:30:00 GMT-0800 (PST)</td>\n",
       "    </tr>\n",
       "    <tr>\n",
       "      <th>2</th>\n",
       "      <td>2014</td>\n",
       "      <td>BMW</td>\n",
       "      <td>3 Series</td>\n",
       "      <td>328i SULEV</td>\n",
       "      <td>Sedan</td>\n",
       "      <td>automatic</td>\n",
       "      <td>wba3c1c51ek116351</td>\n",
       "      <td>ca</td>\n",
       "      <td>45.0</td>\n",
       "      <td>1331.0</td>\n",
       "      <td>gray</td>\n",
       "      <td>black</td>\n",
       "      <td>financial services remarketing (lease)</td>\n",
       "      <td>31900.0</td>\n",
       "      <td>30000.0</td>\n",
       "      <td>Thu Jan 15 2015 04:30:00 GMT-0800 (PST)</td>\n",
       "    </tr>\n",
       "    <tr>\n",
       "      <th>3</th>\n",
       "      <td>2015</td>\n",
       "      <td>Volvo</td>\n",
       "      <td>S60</td>\n",
       "      <td>T5</td>\n",
       "      <td>Sedan</td>\n",
       "      <td>automatic</td>\n",
       "      <td>yv1612tb4f1310987</td>\n",
       "      <td>ca</td>\n",
       "      <td>41.0</td>\n",
       "      <td>14282.0</td>\n",
       "      <td>white</td>\n",
       "      <td>black</td>\n",
       "      <td>volvo na rep/world omni</td>\n",
       "      <td>27500.0</td>\n",
       "      <td>27750.0</td>\n",
       "      <td>Thu Jan 29 2015 04:30:00 GMT-0800 (PST)</td>\n",
       "    </tr>\n",
       "    <tr>\n",
       "      <th>4</th>\n",
       "      <td>2014</td>\n",
       "      <td>BMW</td>\n",
       "      <td>6 Series Gran Coupe</td>\n",
       "      <td>650i</td>\n",
       "      <td>Sedan</td>\n",
       "      <td>automatic</td>\n",
       "      <td>wba6b2c57ed129731</td>\n",
       "      <td>ca</td>\n",
       "      <td>43.0</td>\n",
       "      <td>2641.0</td>\n",
       "      <td>gray</td>\n",
       "      <td>black</td>\n",
       "      <td>financial services remarketing (lease)</td>\n",
       "      <td>66000.0</td>\n",
       "      <td>67000.0</td>\n",
       "      <td>Thu Dec 18 2014 12:30:00 GMT-0800 (PST)</td>\n",
       "    </tr>\n",
       "  </tbody>\n",
       "</table>\n",
       "</div>"
      ],
      "text/plain": [
       "   year   make                model        trim   body transmission  \\\n",
       "0  2015    Kia              Sorento          LX    SUV    automatic   \n",
       "1  2015    Kia              Sorento          LX    SUV    automatic   \n",
       "2  2014    BMW             3 Series  328i SULEV  Sedan    automatic   \n",
       "3  2015  Volvo                  S60          T5  Sedan    automatic   \n",
       "4  2014    BMW  6 Series Gran Coupe        650i  Sedan    automatic   \n",
       "\n",
       "                 vin state  condition  odometer  color interior  \\\n",
       "0  5xyktca69fg566472    ca        5.0   16639.0  white    black   \n",
       "1  5xyktca69fg561319    ca        5.0    9393.0  white    beige   \n",
       "2  wba3c1c51ek116351    ca       45.0    1331.0   gray    black   \n",
       "3  yv1612tb4f1310987    ca       41.0   14282.0  white    black   \n",
       "4  wba6b2c57ed129731    ca       43.0    2641.0   gray    black   \n",
       "\n",
       "                                   seller      mmr  sellingprice  \\\n",
       "0                 kia motors america  inc  20500.0       21500.0   \n",
       "1                 kia motors america  inc  20800.0       21500.0   \n",
       "2  financial services remarketing (lease)  31900.0       30000.0   \n",
       "3                 volvo na rep/world omni  27500.0       27750.0   \n",
       "4  financial services remarketing (lease)  66000.0       67000.0   \n",
       "\n",
       "                                  saledate  \n",
       "0  Tue Dec 16 2014 12:30:00 GMT-0800 (PST)  \n",
       "1  Tue Dec 16 2014 12:30:00 GMT-0800 (PST)  \n",
       "2  Thu Jan 15 2015 04:30:00 GMT-0800 (PST)  \n",
       "3  Thu Jan 29 2015 04:30:00 GMT-0800 (PST)  \n",
       "4  Thu Dec 18 2014 12:30:00 GMT-0800 (PST)  "
      ]
     },
     "execution_count": 2,
     "metadata": {},
     "output_type": "execute_result"
    }
   ],
   "source": [
    "train_path = '/kaggle/input/vehicle-sales-data/car_prices.csv'\n",
    "df = pd.read_csv(train_path)\n",
    "df.head()"
   ]
  },
  {
   "cell_type": "code",
   "execution_count": 3,
   "id": "a19f09e6",
   "metadata": {
    "execution": {
     "iopub.execute_input": "2024-04-23T07:20:23.243030Z",
     "iopub.status.busy": "2024-04-23T07:20:23.242515Z",
     "iopub.status.idle": "2024-04-23T07:20:23.251095Z",
     "shell.execute_reply": "2024-04-23T07:20:23.249399Z"
    },
    "papermill": {
     "duration": 0.02084,
     "end_time": "2024-04-23T07:20:23.254545",
     "exception": false,
     "start_time": "2024-04-23T07:20:23.233705",
     "status": "completed"
    },
    "tags": []
   },
   "outputs": [
    {
     "data": {
      "text/plain": [
       "(558837, 16)"
      ]
     },
     "execution_count": 3,
     "metadata": {},
     "output_type": "execute_result"
    }
   ],
   "source": [
    "df.shape"
   ]
  },
  {
   "cell_type": "code",
   "execution_count": 4,
   "id": "c1acd8dc",
   "metadata": {
    "execution": {
     "iopub.execute_input": "2024-04-23T07:20:23.271641Z",
     "iopub.status.busy": "2024-04-23T07:20:23.271154Z",
     "iopub.status.idle": "2024-04-23T07:20:23.283503Z",
     "shell.execute_reply": "2024-04-23T07:20:23.281809Z"
    },
    "papermill": {
     "duration": 0.024589,
     "end_time": "2024-04-23T07:20:23.286743",
     "exception": false,
     "start_time": "2024-04-23T07:20:23.262154",
     "status": "completed"
    },
    "tags": []
   },
   "outputs": [
    {
     "data": {
      "text/plain": [
       "year              int64\n",
       "make             object\n",
       "model            object\n",
       "trim             object\n",
       "body             object\n",
       "transmission     object\n",
       "vin              object\n",
       "state            object\n",
       "condition       float64\n",
       "odometer        float64\n",
       "color            object\n",
       "interior         object\n",
       "seller           object\n",
       "mmr             float64\n",
       "sellingprice    float64\n",
       "saledate         object\n",
       "dtype: object"
      ]
     },
     "execution_count": 4,
     "metadata": {},
     "output_type": "execute_result"
    }
   ],
   "source": [
    "df.dtypes"
   ]
  },
  {
   "cell_type": "code",
   "execution_count": 5,
   "id": "2eb72e34",
   "metadata": {
    "execution": {
     "iopub.execute_input": "2024-04-23T07:20:23.304006Z",
     "iopub.status.busy": "2024-04-23T07:20:23.303521Z",
     "iopub.status.idle": "2024-04-23T07:20:23.994464Z",
     "shell.execute_reply": "2024-04-23T07:20:23.993161Z"
    },
    "papermill": {
     "duration": 0.702982,
     "end_time": "2024-04-23T07:20:23.997355",
     "exception": false,
     "start_time": "2024-04-23T07:20:23.294373",
     "status": "completed"
    },
    "tags": []
   },
   "outputs": [
    {
     "data": {
      "text/plain": [
       "year                0\n",
       "make            10301\n",
       "model           10399\n",
       "trim            10651\n",
       "body            13195\n",
       "transmission    65352\n",
       "vin                 4\n",
       "state               0\n",
       "condition       11820\n",
       "odometer           94\n",
       "color             749\n",
       "interior          749\n",
       "seller              0\n",
       "mmr                38\n",
       "sellingprice       12\n",
       "saledate           12\n",
       "dtype: int64"
      ]
     },
     "execution_count": 5,
     "metadata": {},
     "output_type": "execute_result"
    }
   ],
   "source": [
    "df.isna().sum()"
   ]
  },
  {
   "cell_type": "code",
   "execution_count": 6,
   "id": "584f10dc",
   "metadata": {
    "execution": {
     "iopub.execute_input": "2024-04-23T07:20:24.017870Z",
     "iopub.status.busy": "2024-04-23T07:20:24.017201Z",
     "iopub.status.idle": "2024-04-23T07:20:24.798098Z",
     "shell.execute_reply": "2024-04-23T07:20:24.796777Z"
    },
    "papermill": {
     "duration": 0.792773,
     "end_time": "2024-04-23T07:20:24.800976",
     "exception": false,
     "start_time": "2024-04-23T07:20:24.008203",
     "status": "completed"
    },
    "tags": []
   },
   "outputs": [],
   "source": [
    "df.dropna(inplace=True)"
   ]
  },
  {
   "cell_type": "code",
   "execution_count": 7,
   "id": "1ba3c484",
   "metadata": {
    "execution": {
     "iopub.execute_input": "2024-04-23T07:20:24.819014Z",
     "iopub.status.busy": "2024-04-23T07:20:24.818303Z",
     "iopub.status.idle": "2024-04-23T07:20:24.828347Z",
     "shell.execute_reply": "2024-04-23T07:20:24.827163Z"
    },
    "papermill": {
     "duration": 0.02281,
     "end_time": "2024-04-23T07:20:24.830812",
     "exception": false,
     "start_time": "2024-04-23T07:20:24.808002",
     "status": "completed"
    },
    "tags": []
   },
   "outputs": [
    {
     "data": {
      "text/plain": [
       "(472325, 16)"
      ]
     },
     "execution_count": 7,
     "metadata": {},
     "output_type": "execute_result"
    }
   ],
   "source": [
    "df.shape"
   ]
  },
  {
   "cell_type": "code",
   "execution_count": 8,
   "id": "4cb78756",
   "metadata": {
    "execution": {
     "iopub.execute_input": "2024-04-23T07:20:24.847256Z",
     "iopub.status.busy": "2024-04-23T07:20:24.846754Z",
     "iopub.status.idle": "2024-04-23T07:20:25.880989Z",
     "shell.execute_reply": "2024-04-23T07:20:25.879585Z"
    },
    "papermill": {
     "duration": 1.047235,
     "end_time": "2024-04-23T07:20:25.885044",
     "exception": false,
     "start_time": "2024-04-23T07:20:24.837809",
     "status": "completed"
    },
    "tags": []
   },
   "outputs": [],
   "source": [
    "df['saledate'] = pd.to_datetime(df['saledate'], utc=True, format='mixed', dayfirst=False)"
   ]
  },
  {
   "cell_type": "code",
   "execution_count": 9,
   "id": "e2f40bf5",
   "metadata": {
    "execution": {
     "iopub.execute_input": "2024-04-23T07:20:25.905020Z",
     "iopub.status.busy": "2024-04-23T07:20:25.904571Z",
     "iopub.status.idle": "2024-04-23T07:20:35.296551Z",
     "shell.execute_reply": "2024-04-23T07:20:35.295353Z"
    },
    "papermill": {
     "duration": 9.406001,
     "end_time": "2024-04-23T07:20:35.299525",
     "exception": false,
     "start_time": "2024-04-23T07:20:25.893524",
     "status": "completed"
    },
    "tags": []
   },
   "outputs": [],
   "source": [
    "df['weekday'] = df['saledate'].dt.strftime('%a')  # Abbreviated weekday name (e.g., 'Tue')\n",
    "df['month'] = df['saledate'].dt.strftime('%b')    # Abbreviated month name (e.g., 'Dec')\n",
    "df['day'] = df['saledate'].dt.day                 # Day of the month (e.g., 16)\n",
    "df['year'] = df['saledate'].dt.year               # Year (e.g., 2014)\n",
    "df['hour'] = df['saledate'].dt.hour               # Hour (e.g., 12)"
   ]
  },
  {
   "cell_type": "code",
   "execution_count": 10,
   "id": "5ae92597",
   "metadata": {
    "execution": {
     "iopub.execute_input": "2024-04-23T07:20:35.317602Z",
     "iopub.status.busy": "2024-04-23T07:20:35.317161Z",
     "iopub.status.idle": "2024-04-23T07:20:35.347475Z",
     "shell.execute_reply": "2024-04-23T07:20:35.346158Z"
    },
    "papermill": {
     "duration": 0.042867,
     "end_time": "2024-04-23T07:20:35.350449",
     "exception": false,
     "start_time": "2024-04-23T07:20:35.307582",
     "status": "completed"
    },
    "tags": []
   },
   "outputs": [
    {
     "data": {
      "text/html": [
       "<div>\n",
       "<style scoped>\n",
       "    .dataframe tbody tr th:only-of-type {\n",
       "        vertical-align: middle;\n",
       "    }\n",
       "\n",
       "    .dataframe tbody tr th {\n",
       "        vertical-align: top;\n",
       "    }\n",
       "\n",
       "    .dataframe thead th {\n",
       "        text-align: right;\n",
       "    }\n",
       "</style>\n",
       "<table border=\"1\" class=\"dataframe\">\n",
       "  <thead>\n",
       "    <tr style=\"text-align: right;\">\n",
       "      <th></th>\n",
       "      <th>year</th>\n",
       "      <th>make</th>\n",
       "      <th>model</th>\n",
       "      <th>trim</th>\n",
       "      <th>body</th>\n",
       "      <th>transmission</th>\n",
       "      <th>vin</th>\n",
       "      <th>state</th>\n",
       "      <th>condition</th>\n",
       "      <th>odometer</th>\n",
       "      <th>color</th>\n",
       "      <th>interior</th>\n",
       "      <th>seller</th>\n",
       "      <th>mmr</th>\n",
       "      <th>sellingprice</th>\n",
       "      <th>saledate</th>\n",
       "      <th>weekday</th>\n",
       "      <th>month</th>\n",
       "      <th>day</th>\n",
       "      <th>hour</th>\n",
       "    </tr>\n",
       "  </thead>\n",
       "  <tbody>\n",
       "    <tr>\n",
       "      <th>0</th>\n",
       "      <td>2014</td>\n",
       "      <td>Kia</td>\n",
       "      <td>Sorento</td>\n",
       "      <td>LX</td>\n",
       "      <td>SUV</td>\n",
       "      <td>automatic</td>\n",
       "      <td>5xyktca69fg566472</td>\n",
       "      <td>ca</td>\n",
       "      <td>5.0</td>\n",
       "      <td>16639.0</td>\n",
       "      <td>white</td>\n",
       "      <td>black</td>\n",
       "      <td>kia motors america  inc</td>\n",
       "      <td>20500.0</td>\n",
       "      <td>21500.0</td>\n",
       "      <td>2014-12-16 04:30:00+00:00</td>\n",
       "      <td>Tue</td>\n",
       "      <td>Dec</td>\n",
       "      <td>16</td>\n",
       "      <td>4</td>\n",
       "    </tr>\n",
       "    <tr>\n",
       "      <th>1</th>\n",
       "      <td>2014</td>\n",
       "      <td>Kia</td>\n",
       "      <td>Sorento</td>\n",
       "      <td>LX</td>\n",
       "      <td>SUV</td>\n",
       "      <td>automatic</td>\n",
       "      <td>5xyktca69fg561319</td>\n",
       "      <td>ca</td>\n",
       "      <td>5.0</td>\n",
       "      <td>9393.0</td>\n",
       "      <td>white</td>\n",
       "      <td>beige</td>\n",
       "      <td>kia motors america  inc</td>\n",
       "      <td>20800.0</td>\n",
       "      <td>21500.0</td>\n",
       "      <td>2014-12-16 04:30:00+00:00</td>\n",
       "      <td>Tue</td>\n",
       "      <td>Dec</td>\n",
       "      <td>16</td>\n",
       "      <td>4</td>\n",
       "    </tr>\n",
       "    <tr>\n",
       "      <th>2</th>\n",
       "      <td>2015</td>\n",
       "      <td>BMW</td>\n",
       "      <td>3 Series</td>\n",
       "      <td>328i SULEV</td>\n",
       "      <td>Sedan</td>\n",
       "      <td>automatic</td>\n",
       "      <td>wba3c1c51ek116351</td>\n",
       "      <td>ca</td>\n",
       "      <td>45.0</td>\n",
       "      <td>1331.0</td>\n",
       "      <td>gray</td>\n",
       "      <td>black</td>\n",
       "      <td>financial services remarketing (lease)</td>\n",
       "      <td>31900.0</td>\n",
       "      <td>30000.0</td>\n",
       "      <td>2015-01-14 20:30:00+00:00</td>\n",
       "      <td>Wed</td>\n",
       "      <td>Jan</td>\n",
       "      <td>14</td>\n",
       "      <td>20</td>\n",
       "    </tr>\n",
       "    <tr>\n",
       "      <th>3</th>\n",
       "      <td>2015</td>\n",
       "      <td>Volvo</td>\n",
       "      <td>S60</td>\n",
       "      <td>T5</td>\n",
       "      <td>Sedan</td>\n",
       "      <td>automatic</td>\n",
       "      <td>yv1612tb4f1310987</td>\n",
       "      <td>ca</td>\n",
       "      <td>41.0</td>\n",
       "      <td>14282.0</td>\n",
       "      <td>white</td>\n",
       "      <td>black</td>\n",
       "      <td>volvo na rep/world omni</td>\n",
       "      <td>27500.0</td>\n",
       "      <td>27750.0</td>\n",
       "      <td>2015-01-28 20:30:00+00:00</td>\n",
       "      <td>Wed</td>\n",
       "      <td>Jan</td>\n",
       "      <td>28</td>\n",
       "      <td>20</td>\n",
       "    </tr>\n",
       "    <tr>\n",
       "      <th>4</th>\n",
       "      <td>2014</td>\n",
       "      <td>BMW</td>\n",
       "      <td>6 Series Gran Coupe</td>\n",
       "      <td>650i</td>\n",
       "      <td>Sedan</td>\n",
       "      <td>automatic</td>\n",
       "      <td>wba6b2c57ed129731</td>\n",
       "      <td>ca</td>\n",
       "      <td>43.0</td>\n",
       "      <td>2641.0</td>\n",
       "      <td>gray</td>\n",
       "      <td>black</td>\n",
       "      <td>financial services remarketing (lease)</td>\n",
       "      <td>66000.0</td>\n",
       "      <td>67000.0</td>\n",
       "      <td>2014-12-18 04:30:00+00:00</td>\n",
       "      <td>Thu</td>\n",
       "      <td>Dec</td>\n",
       "      <td>18</td>\n",
       "      <td>4</td>\n",
       "    </tr>\n",
       "  </tbody>\n",
       "</table>\n",
       "</div>"
      ],
      "text/plain": [
       "   year   make                model        trim   body transmission  \\\n",
       "0  2014    Kia              Sorento          LX    SUV    automatic   \n",
       "1  2014    Kia              Sorento          LX    SUV    automatic   \n",
       "2  2015    BMW             3 Series  328i SULEV  Sedan    automatic   \n",
       "3  2015  Volvo                  S60          T5  Sedan    automatic   \n",
       "4  2014    BMW  6 Series Gran Coupe        650i  Sedan    automatic   \n",
       "\n",
       "                 vin state  condition  odometer  color interior  \\\n",
       "0  5xyktca69fg566472    ca        5.0   16639.0  white    black   \n",
       "1  5xyktca69fg561319    ca        5.0    9393.0  white    beige   \n",
       "2  wba3c1c51ek116351    ca       45.0    1331.0   gray    black   \n",
       "3  yv1612tb4f1310987    ca       41.0   14282.0  white    black   \n",
       "4  wba6b2c57ed129731    ca       43.0    2641.0   gray    black   \n",
       "\n",
       "                                   seller      mmr  sellingprice  \\\n",
       "0                 kia motors america  inc  20500.0       21500.0   \n",
       "1                 kia motors america  inc  20800.0       21500.0   \n",
       "2  financial services remarketing (lease)  31900.0       30000.0   \n",
       "3                 volvo na rep/world omni  27500.0       27750.0   \n",
       "4  financial services remarketing (lease)  66000.0       67000.0   \n",
       "\n",
       "                   saledate weekday month  day  hour  \n",
       "0 2014-12-16 04:30:00+00:00     Tue   Dec   16     4  \n",
       "1 2014-12-16 04:30:00+00:00     Tue   Dec   16     4  \n",
       "2 2015-01-14 20:30:00+00:00     Wed   Jan   14    20  \n",
       "3 2015-01-28 20:30:00+00:00     Wed   Jan   28    20  \n",
       "4 2014-12-18 04:30:00+00:00     Thu   Dec   18     4  "
      ]
     },
     "execution_count": 10,
     "metadata": {},
     "output_type": "execute_result"
    }
   ],
   "source": [
    "df.head()"
   ]
  },
  {
   "cell_type": "code",
   "execution_count": 11,
   "id": "1730a51c",
   "metadata": {
    "execution": {
     "iopub.execute_input": "2024-04-23T07:20:35.368752Z",
     "iopub.status.busy": "2024-04-23T07:20:35.368325Z",
     "iopub.status.idle": "2024-04-23T07:20:35.378745Z",
     "shell.execute_reply": "2024-04-23T07:20:35.377191Z"
    },
    "papermill": {
     "duration": 0.024197,
     "end_time": "2024-04-23T07:20:35.383006",
     "exception": false,
     "start_time": "2024-04-23T07:20:35.358809",
     "status": "completed"
    },
    "tags": []
   },
   "outputs": [
    {
     "data": {
      "text/plain": [
       "year                          int32\n",
       "make                         object\n",
       "model                        object\n",
       "trim                         object\n",
       "body                         object\n",
       "transmission                 object\n",
       "vin                          object\n",
       "state                        object\n",
       "condition                   float64\n",
       "odometer                    float64\n",
       "color                        object\n",
       "interior                     object\n",
       "seller                       object\n",
       "mmr                         float64\n",
       "sellingprice                float64\n",
       "saledate        datetime64[ns, UTC]\n",
       "weekday                      object\n",
       "month                        object\n",
       "day                           int32\n",
       "hour                          int32\n",
       "dtype: object"
      ]
     },
     "execution_count": 11,
     "metadata": {},
     "output_type": "execute_result"
    }
   ],
   "source": [
    "df.dtypes"
   ]
  },
  {
   "cell_type": "code",
   "execution_count": 12,
   "id": "9c45567e",
   "metadata": {
    "execution": {
     "iopub.execute_input": "2024-04-23T07:20:35.400998Z",
     "iopub.status.busy": "2024-04-23T07:20:35.400561Z",
     "iopub.status.idle": "2024-04-23T07:20:35.509473Z",
     "shell.execute_reply": "2024-04-23T07:20:35.508092Z"
    },
    "papermill": {
     "duration": 0.121035,
     "end_time": "2024-04-23T07:20:35.512195",
     "exception": false,
     "start_time": "2024-04-23T07:20:35.391160",
     "status": "completed"
    },
    "tags": []
   },
   "outputs": [
    {
     "data": {
      "text/plain": [
       "make\n",
       "Ford             81013\n",
       "Chevrolet        54150\n",
       "Nissan           44043\n",
       "Toyota           35313\n",
       "Dodge            27181\n",
       "Honda            24781\n",
       "Hyundai          18659\n",
       "BMW              17509\n",
       "Kia              15828\n",
       "Chrysler         15133\n",
       "Infiniti         14011\n",
       "Mercedes-Benz    14008\n",
       "Jeep             12735\n",
       "Volkswagen       10780\n",
       "Lexus            10409\n",
       "GMC               9217\n",
       "Mazda             6930\n",
       "Cadillac          6315\n",
       "Lincoln           4926\n",
       "Audi              4802\n",
       "Acura             4503\n",
       "Buick             4470\n",
       "Subaru            4369\n",
       "Ram               4044\n",
       "Pontiac           4018\n",
       "Mitsubishi        3661\n",
       "Volvo             3082\n",
       "MINI              2946\n",
       "Saturn            2570\n",
       "Mercury           1571\n",
       "Scion             1545\n",
       "Land Rover        1322\n",
       "Jaguar            1257\n",
       "Porsche           1157\n",
       "Suzuki             977\n",
       "HUMMER             768\n",
       "FIAT               725\n",
       "Saab               416\n",
       "smart              343\n",
       "Oldsmobile         318\n",
       "Isuzu              179\n",
       "Maserati           109\n",
       "Bentley            105\n",
       "Aston Martin        24\n",
       "Tesla               23\n",
       "Ferrari             17\n",
       "Rolls-Royce         16\n",
       "Plymouth            16\n",
       "Geo                 16\n",
       "Fisker               9\n",
       "Lamborghini          3\n",
       "Daewoo               2\n",
       "Lotus                1\n",
       "Name: count, dtype: int64"
      ]
     },
     "execution_count": 12,
     "metadata": {},
     "output_type": "execute_result"
    }
   ],
   "source": [
    " df.make.value_counts()"
   ]
  },
  {
   "cell_type": "code",
   "execution_count": 13,
   "id": "668f32c3",
   "metadata": {
    "execution": {
     "iopub.execute_input": "2024-04-23T07:20:35.536414Z",
     "iopub.status.busy": "2024-04-23T07:20:35.535147Z",
     "iopub.status.idle": "2024-04-23T07:20:35.638675Z",
     "shell.execute_reply": "2024-04-23T07:20:35.637283Z"
    },
    "papermill": {
     "duration": 0.118054,
     "end_time": "2024-04-23T07:20:35.641465",
     "exception": false,
     "start_time": "2024-04-23T07:20:35.523411",
     "status": "completed"
    },
    "tags": []
   },
   "outputs": [
    {
     "data": {
      "text/plain": [
       "model\n",
       "Altima                     16346\n",
       "Fusion                     12116\n",
       "F-150                      11950\n",
       "Camry                      10986\n",
       "Escape                     10656\n",
       "                           ...  \n",
       "400-Class                      1\n",
       "GranSport                      1\n",
       "Continental Supersports        1\n",
       "Amigo                          1\n",
       "458 Italia                     1\n",
       "Name: count, Length: 768, dtype: int64"
      ]
     },
     "execution_count": 13,
     "metadata": {},
     "output_type": "execute_result"
    }
   ],
   "source": [
    " df.model.value_counts()"
   ]
  },
  {
   "cell_type": "code",
   "execution_count": 14,
   "id": "9c917865",
   "metadata": {
    "execution": {
     "iopub.execute_input": "2024-04-23T07:20:35.660434Z",
     "iopub.status.busy": "2024-04-23T07:20:35.659993Z",
     "iopub.status.idle": "2024-04-23T07:20:36.709286Z",
     "shell.execute_reply": "2024-04-23T07:20:36.707868Z"
    },
    "papermill": {
     "duration": 1.062831,
     "end_time": "2024-04-23T07:20:36.712586",
     "exception": false,
     "start_time": "2024-04-23T07:20:35.649755",
     "status": "completed"
    },
    "tags": []
   },
   "outputs": [
    {
     "data": {
      "text/plain": [
       "0"
      ]
     },
     "execution_count": 14,
     "metadata": {},
     "output_type": "execute_result"
    }
   ],
   "source": [
    "df.duplicated().sum()"
   ]
  },
  {
   "cell_type": "code",
   "execution_count": 15,
   "id": "1a96207b",
   "metadata": {
    "execution": {
     "iopub.execute_input": "2024-04-23T07:20:36.738240Z",
     "iopub.status.busy": "2024-04-23T07:20:36.737379Z",
     "iopub.status.idle": "2024-04-23T07:20:49.572039Z",
     "shell.execute_reply": "2024-04-23T07:20:49.570458Z"
    },
    "papermill": {
     "duration": 12.850015,
     "end_time": "2024-04-23T07:20:49.575412",
     "exception": false,
     "start_time": "2024-04-23T07:20:36.725397",
     "status": "completed"
    },
    "tags": []
   },
   "outputs": [],
   "source": [
    "df.to_csv('Cleaned_Car_Data.csv', index=False)"
   ]
  }
 ],
 "metadata": {
  "kaggle": {
   "accelerator": "none",
   "dataSources": [
    {
     "datasetId": 4476093,
     "sourceId": 7673611,
     "sourceType": "datasetVersion"
    }
   ],
   "dockerImageVersionId": 30684,
   "isGpuEnabled": false,
   "isInternetEnabled": true,
   "language": "python",
   "sourceType": "notebook"
  },
  "kernelspec": {
   "display_name": "Python 3",
   "language": "python",
   "name": "python3"
  },
  "language_info": {
   "codemirror_mode": {
    "name": "ipython",
    "version": 3
   },
   "file_extension": ".py",
   "mimetype": "text/x-python",
   "name": "python",
   "nbconvert_exporter": "python",
   "pygments_lexer": "ipython3",
   "version": "3.10.13"
  },
  "papermill": {
   "default_parameters": {},
   "duration": 36.164724,
   "end_time": "2024-04-23T07:20:50.309293",
   "environment_variables": {},
   "exception": null,
   "input_path": "__notebook__.ipynb",
   "output_path": "__notebook__.ipynb",
   "parameters": {},
   "start_time": "2024-04-23T07:20:14.144569",
   "version": "2.5.0"
  }
 },
 "nbformat": 4,
 "nbformat_minor": 5
}
